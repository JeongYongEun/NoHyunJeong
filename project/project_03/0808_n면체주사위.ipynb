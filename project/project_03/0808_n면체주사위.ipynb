{
 "cells": [
  {
   "cell_type": "markdown",
   "metadata": {},
   "source": [
    "## 9. n면체 주사위 만들기 (1) 기획\n",
    "\n",
    "- 주사위 게임\n",
    "- 사용자가 원하면 주사위 숫자의 수는 달라질 수 있는 n면체 주사위를 클래스를 이용\n",
    "- 기능\n",
    "    - 주사위의 면의 개수 n을 입력할 수 있다.\n",
    "    - 주사위를 던지면 1~n  눈의 수 중에서 랜덤으로  값을 출력"
   ]
  },
  {
   "cell_type": "markdown",
   "metadata": {},
   "source": [
    "### 나의 설계\n",
    "+ 필요한 속성 \n",
    "    + 주사의 면의 개수(num) : 인스턴스 생성 시 입력받을 수 있음. 입력이 없을시에는 기본값 6으로 셋팅\n",
    "    + 주사위 결과(result) : 주사위를 던졌을때 나온 결과 값 (랜덤으로 1~면의개수의 정수 중에 한 값을 가져옴)\n",
    "    + 조커 num (joker_num) : 설정된 조커 숫자가 나오면 한 번 더 던질 수 있는 기회를 준다. 인스턴스 생성 시 주사위 면의 갯수가 설정되면 set_joker 메서드로 랜덤으로 조커num을 설정한다. 주사위 결과가 조커num이 나오면 주사위를 한번 더 던지는 기회를 주고 조커num을 0으로 설정해 추가 기회는 없게함.\n",
    "+ 필요한 메서드\n",
    "    + 주사위 던지기 (roll_the_dice()) : 조커 번호를 알려주고(get_joker()), 주사위 결과를 설정하고(랜덤)(set_result()),\n",
    "    + 랜덤 정 수뽑기 (get_randint(start=1,end=6)) : start~end 사이의 랜덤한 정수 1개를 반환함\n",
    "    + 주사위 결과 설정 (set_result()) : 주사위 결과를 1~면의개수 사이에 정수 1개로 랜덤하게 설정\n",
    "    + 주사위 결과 보기 (get_result()) : 설정된 주사위 결과값 출력 및 반환\n",
    "    + 조커num 설정 (set_joker(joker_num=0)) : 조거 결과를 1~면의개수 사이에 정수 1개로 랜덤하게 설정\n",
    "    + 조커num 결과 보기 (get_joker()) : 조커의 결과 출력 및 반환\n"
   ]
  },
  {
   "cell_type": "code",
   "execution_count": 44,
   "metadata": {},
   "outputs": [
    {
     "name": "stdout",
     "output_type": "stream",
     "text": [
      "주사위 면의 개수 5\n",
      "조커값은 4 입니다.\n",
      "주사위 값은 4 입니다.\n",
      "조커 값이 나왔습니다. 주사위를 다시 한번 던집니다\n",
      "행운의 숫자는? 5\n"
     ]
    }
   ],
   "source": [
    "import random as rd \n",
    "\n",
    "class FunnyDice() :\n",
    "\n",
    "    def __init__ (self, n=6) : \n",
    "        self.n = n          # 주사위 면 수\n",
    "        self.val = 0        # 주사위 결과값\n",
    "        self.joker_val=0    # 주사위 다시 던지는 조커값\n",
    "        \n",
    "    def throw(self) :\n",
    "        print('주사위를 던집니다.')        \n",
    "        self.setval()           # 주사위값 랜덤 설정\n",
    "        if(self.joker_val==self.val) : # 조커값과 주사위결과값이 같다면\n",
    "            self.print_joker_val()  # 조커값 출력\n",
    "            self.printval()         # 주사위값 출력\n",
    "            print(\"조커 값이 나왔습니다. 주사위를 다시 한번 던집니다\")\n",
    "            self.set_joker_val(0)   # 조커값 0으로 초기화\n",
    "            self.setval()           # 주사위값 랜덤 설정\n",
    "            #self.printval()            \n",
    "      \n",
    "    def getval(self):\n",
    "        return self.val\n",
    "\n",
    "    def setval(self,val=0):        \n",
    "        if val==0 : \n",
    "            # val값이 기본값(0)이 경우  \n",
    "            # 주사위 면의 수와 같거나 동일할 경우 1~n사이의 정수 값을 가져와서 val 설정 \n",
    "            self.val = self.get_rand_int()\n",
    "        elif val <= self.n :\n",
    "            # n값을 지정할 경우 주사위 범위 내에 해당하는 값이면 n값대로 설정\n",
    "            self.val = val            \n",
    "        else : \n",
    "            msg = f\"주사위에 없는 숫자입니다. 주사위는 1 ~ {self.n}까지 있습니다.\"\n",
    "            raise ValueError(msg)\n",
    "        \n",
    "    def printval(self):\n",
    "        print('주사위 값은',self.val,'입니다.')\n",
    "\n",
    "    def get_joker_val(self):\n",
    "        # 조커 값을 반환함.\n",
    "        return self.joker_val\n",
    "    \n",
    "    def set_joker_val(self, n=0):\n",
    "        if self.joker_val==0 :\n",
    "            # 조커값이 0(초기값)이면 1~n사이의 랜덤 값을 가져와서 조커값을 설정함\n",
    "            self.joker_val= self.get_rand_int()\n",
    "        else : \n",
    "            # 기존의 조거값을 n값으로 변경(0이될수도 있고 직접 지정할수도 있음.) \n",
    "            self.joker_val==n       \n",
    "\n",
    "    def print_joker_val(self):\n",
    "        print('조커값은',self.joker_val,'입니다.')\n",
    "            \n",
    "    def get_rand_int(self):\n",
    "        # 1~n(주사위면의수) 사이의 정수값을 랜덤으로 반환\n",
    "        return rd.randint(1,self.n)\n",
    "        \n",
    "def get_inputs():\n",
    "    n = int(input(\"주사위 면의 개수를 입력하세요: \"))\n",
    "    return n\n",
    "\n",
    "def main():\n",
    "    n = get_inputs()\n",
    "    print(\"주사위 면의 개수\",n)\n",
    "    mydice = FunnyDice()\n",
    "    mydice.throw()\n",
    "    print(\"행운의 숫자는? {0}\".format(mydice.getval()))\n",
    "    \n",
    "if __name__ == '__main__':\n",
    "    main()\n",
    "\n"
   ]
  }
 ],
 "metadata": {
  "kernelspec": {
   "display_name": "Python 3",
   "language": "python",
   "name": "python3"
  },
  "language_info": {
   "codemirror_mode": {
    "name": "ipython",
    "version": 3
   },
   "file_extension": ".py",
   "mimetype": "text/x-python",
   "name": "python",
   "nbconvert_exporter": "python",
   "pygments_lexer": "ipython3",
   "version": "3.10.12"
  },
  "orig_nbformat": 4
 },
 "nbformat": 4,
 "nbformat_minor": 2
}
